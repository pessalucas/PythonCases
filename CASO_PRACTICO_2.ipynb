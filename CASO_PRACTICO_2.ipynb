{
  "nbformat": 4,
  "nbformat_minor": 0,
  "metadata": {
    "colab": {
      "name": "CASO-PRACTICO-2.ipynb",
      "provenance": [],
      "collapsed_sections": []
    },
    "kernelspec": {
      "name": "python3",
      "display_name": "Python 3"
    },
    "language_info": {
      "name": "python"
    }
  },
  "cells": [
    {
      "cell_type": "markdown",
      "metadata": {
        "id": "cHciU_QHPCMY"
      },
      "source": [
        "**CASO PRACTICO 2 -**\n",
        "**Polynomial regression**\n",
        "\n",
        "\"Polynomial regression\" es una forma de análisis de regresión que consiste en ajustar una relacion curva que explique el comportamiento de una serie de datos."
      ]
    },
    {
      "cell_type": "markdown",
      "metadata": {
        "id": "jwTFS-7fef60"
      },
      "source": [
        "En este caso de uso partiremos de un dataframe que nos indica segun la cantidad de ventas, la materia prima por mes requerida por una empresa productiva. Nuestro objetivo es proyectar las ventas del mes 10 para poder gestionar la compra de la materia prima requerida para la producción. "
      ]
    },
    {
      "cell_type": "code",
      "metadata": {
        "colab": {
          "base_uri": "https://localhost:8080/"
        },
        "id": "afRMWqAyBWl0",
        "outputId": "671bac40-72e9-4092-bf6b-304e47ac29e7"
      },
      "source": [
        "import pandas as pd\n",
        "from sklearn.pipeline import make_pipeline\n",
        "from sklearn.preprocessing import PolynomialFeatures\n",
        "from sklearn.linear_model import LinearRegression\n",
        "import numpy as np\n",
        "import matplotlib.pyplot as plt\n",
        "from matplotlib.pyplot import figure\n",
        "\n",
        "df = 0\n",
        "df = pd.DataFrame()\n",
        "\n",
        "# Definimos las columnas.\n",
        "df['VENTAS'] = None\n",
        "df['MP1'] = None\n",
        "df['MP2'] = None\n",
        "\n",
        "# Añadimos las filas al dataset.\n",
        "df.loc[1] = [50, 500, 160]\n",
        "df.loc[2] = [55, 555, 180]\n",
        "df.loc[3] = [75, 758, 240]\n",
        "df.loc[4] = [150, 1512, 480]\n",
        "df.loc[5] = [320, 3220, 1010]\n",
        "df.loc[6] = [500, 5400, 1620]\n",
        "df.loc[7] = [510, 5390, 1640]\n",
        "df.loc[8] = [520, 5500, 1700]\n",
        "df.loc[9] = [345, 3600, 1100]\n",
        "\n",
        "print(df)"
      ],
      "execution_count": null,
      "outputs": [
        {
          "output_type": "stream",
          "text": [
            "  VENTAS   MP1   MP2\n",
            "1     50   500   160\n",
            "2     55   555   180\n",
            "3     75   758   240\n",
            "4    150  1512   480\n",
            "5    320  3220  1010\n",
            "6    500  5400  1620\n",
            "7    510  5390  1640\n",
            "8    520  5500  1700\n",
            "9    345  3600  1100\n"
          ],
          "name": "stdout"
        }
      ]
    },
    {
      "cell_type": "code",
      "metadata": {
        "colab": {
          "base_uri": "https://localhost:8080/",
          "height": 298
        },
        "id": "rAgJcfh1gMKf",
        "outputId": "a56e3db8-7bb7-4a63-f101-2c1280bd70c6"
      },
      "source": [
        "# Realizamos una primera aproximacion al dataset.\n",
        "plt.title('VENTAS, MP1 Y MP2 por mes')\n",
        "plt.plot(df.index, df['VENTAS'], color='brown', alpha=0.6)\n",
        "plt.bar(df.index, df['MP1'], color='orange', alpha=0.6)\n",
        "plt.bar(df.index, df['MP2'], color='green', alpha=0.7)\n",
        "plt.legend(['VENTAS','MP1','MP2'])\n"
      ],
      "execution_count": null,
      "outputs": [
        {
          "output_type": "execute_result",
          "data": {
            "text/plain": [
              "<matplotlib.legend.Legend at 0x7f9b38f62e10>"
            ]
          },
          "metadata": {
            "tags": []
          },
          "execution_count": 2
        },
        {
          "output_type": "display_data",
          "data": {
            "image/png": "[encoded data removed]",
            "text/plain": [
              "<Figure size 432x288 with 1 Axes>"
            ]
          },
          "metadata": {
            "tags": [],
            "needs_background": "light"
          }
        }
      ]
    },
    {
      "cell_type": "markdown",
      "metadata": {
        "id": "F_OgYXtBgVC_"
      },
      "source": [
        "Podemos notar que existe una conducta estacional en el consumo del producto comercializado. Como primera aproximación, ya podemos vislumbrar que no es posible aproximar el comportamiento de los datos a través de una regresión lineal. "
      ]
    },
    {
      "cell_type": "code",
      "metadata": {
        "id": "doCJGuyKBfG7"
      },
      "source": [
        "# Definimos el modelo polynomial que utilizaremos.\n",
        "# Es importante en este punto la definicion del parametro \"PolynomialFeatures\", ya que este hace alusion al grado de la polinomial y tendra un impacto\n",
        "# significativo en la aproximacion.\n",
        "\n",
        "poly_model = make_pipeline(PolynomialFeatures(5),\n",
        "                           LinearRegression())"
      ],
      "execution_count": null,
      "outputs": []
    },
    {
      "cell_type": "code",
      "metadata": {
        "colab": {
          "base_uri": "https://localhost:8080/",
          "height": 369
        },
        "id": "8_fv8F4zJwjb",
        "outputId": "be65825f-3277-4999-e9e2-0e0f3506351b"
      },
      "source": [
        "# Asignamos a \"x\" e \"y\" los valores correspondientes.\n",
        "x = df.index\n",
        "y = df['VENTAS']\n",
        "\n",
        "# Ejecutamos el modelo.\n",
        "xfit = df.index\n",
        "poly_model.fit(x[:, np.newaxis], y)\n",
        "yfit = poly_model.predict(xfit[:, np.newaxis])\n",
        "\n",
        "# Graficamos resultante.\n",
        "plt.title('Polinomial ajustada')\n",
        "plt.scatter(x, y, color='brown', alpha=0.7)\n",
        "plt.plot(xfit, yfit, color='brown', alpha=0.7);"
      ],
      "execution_count": null,
      "outputs": [
        {
          "output_type": "stream",
          "text": [
            "/usr/local/lib/python3.7/dist-packages/ipykernel_launcher.py:7: FutureWarning: Support for multi-dimensional indexing (e.g. `obj[:, None]`) is deprecated and will be removed in a future version.  Convert to a numpy array before indexing instead.\n",
            "  import sys\n",
            "/usr/local/lib/python3.7/dist-packages/ipykernel_launcher.py:8: FutureWarning: Support for multi-dimensional indexing (e.g. `obj[:, None]`) is deprecated and will be removed in a future version.  Convert to a numpy array before indexing instead.\n",
            "  \n"
          ],
          "name": "stderr"
        },
        {
          "output_type": "display_data",
          "data": {
            "image/png": "[encoded data removed]",
            "text/plain": [
              "<Figure size 432x288 with 1 Axes>"
            ]
          },
          "metadata": {
            "tags": [],
            "needs_background": "light"
          }
        }
      ]
    },
    {
      "cell_type": "markdown",
      "metadata": {
        "id": "fTysUOKVhbvT"
      },
      "source": [
        "Vemos como una polinomial de grado 5 resulta bastante precisa a la hora de explicar el comportamiento del volumen de las ventas."
      ]
    },
    {
      "cell_type": "code",
      "metadata": {
        "colab": {
          "base_uri": "https://localhost:8080/"
        },
        "id": "5oaXzOpyJy5e",
        "outputId": "37ae32b1-56dc-4d71-cdd0-48d66033058b"
      },
      "source": [
        "def poly_funcion ( x ):\n",
        "  \"\"\"Cantidad de ventas por mes. \n",
        "    @PARAM x = numero de mes\n",
        "  \"\"\"\n",
        "  return poly_model.predict([[x]])[0]\n",
        "\n",
        "# Una vez definida la funcion puedo predecir la cantidad de ventas que voy a tener en el mes posterior.\n",
        "MES_PREDICT = 10\n",
        "VENTAS_MES_10 = poly_funcion(MES_PREDICT)\n",
        "VENTAS_MES_10"
      ],
      "execution_count": null,
      "outputs": [
        {
          "output_type": "execute_result",
          "data": {
            "text/plain": [
              "210.41666666625554"
            ]
          },
          "metadata": {
            "tags": []
          },
          "execution_count": 5
        }
      ]
    },
    {
      "cell_type": "code",
      "metadata": {
        "colab": {
          "base_uri": "https://localhost:8080/",
          "height": 281
        },
        "id": "sDv5rES_cKj9",
        "outputId": "6e7a8e14-4c83-48b5-fd2c-afb5bd6a2632"
      },
      "source": [
        "# Graficamos el punto obtenido junto al modelo, podemos notar como se ajusta a la tendencia bajista.\n",
        "plt.title('Polinomial ajustada')\n",
        "plt.scatter(x, y, color='brown', alpha=0.7)\n",
        "plt.scatter(10, VENTAS_MES_10, color='brown', alpha=0.5, marker = ',')\n",
        "plt.plot(xfit, yfit, color='brown', alpha=0.7);"
      ],
      "execution_count": null,
      "outputs": [
        {
          "output_type": "display_data",
          "data": {
            "image/png": "[encoded data removed]",
            "text/plain": [
              "<Figure size 432x288 with 1 Axes>"
            ]
          },
          "metadata": {
            "tags": [],
            "needs_background": "light"
          }
        }
      ]
    },
    {
      "cell_type": "code",
      "metadata": {
        "id": "WfbHeIHLYNx2",
        "colab": {
          "base_uri": "https://localhost:8080/"
        },
        "outputId": "6c8c2649-7c72-4570-cb7d-23d5b8eb99b2"
      },
      "source": [
        "# A su vez, me permite conocer los valores intermedios entre los puntos obtenidos, esto podria ser importante para llevar adelante un plan de compras semanal de \n",
        "# materia prima\n",
        "poly_funcion(8.25)"
      ],
      "execution_count": null,
      "outputs": [
        {
          "output_type": "execute_result",
          "data": {
            "text/plain": [
              "469.81601030366755"
            ]
          },
          "metadata": {
            "tags": []
          },
          "execution_count": 7
        }
      ]
    },
    {
      "cell_type": "markdown",
      "metadata": {
        "id": "Z3QvC5iyiEJ9"
      },
      "source": [
        "Una vez obtenida la cantidad de ventas que realizaríamos en el mes 10, solo nos queda estimar la materia prima requerida. Con lo cual, tenemos que obtener la relación que existe en las materias primas y las ventas. \n",
        "\n",
        "Sin embargo, sabemos que un proceso productivo puede percibir cierta variación de requerimientos de materia prima y es parte de nuestro trabajo considerarlo."
      ]
    },
    {
      "cell_type": "code",
      "metadata": {
        "id": "VYB_Qu2zPGkn"
      },
      "source": [
        "# Para saber esto primero tenemos que conocer la relacion que existe entre las ventas y la MP1 y MP2.\n",
        "df['MP1/VENTAS'] =  df['MP1'] / df['VENTAS']\n",
        "df['MP2/VENTAS'] =  df['MP2'] / df['VENTAS']"
      ],
      "execution_count": null,
      "outputs": []
    },
    {
      "cell_type": "code",
      "metadata": {
        "colab": {
          "base_uri": "https://localhost:8080/",
          "height": 353
        },
        "id": "lOdFqs93pW7X",
        "outputId": "1c19dc16-ad5d-4c52-b969-5764b81a04ff"
      },
      "source": [
        "fig, axs = plt.subplots(1, 2, figsize=(10,5))\n",
        "\n",
        "axs[0].hist(df['MP1/VENTAS'], bins=10, density=True, alpha=0.6, color='orange')\n",
        "axs[0].set_title('MP1/VENTAS')\n",
        "axs[0].set_ylabel('Frecuencia')\n",
        "\n",
        "axs[1].hist(df['MP2/VENTAS'], bins=10, density=True, alpha=0.6, color='green')\n",
        "axs[1].set_title('MP2/VENTAS')"
      ],
      "execution_count": null,
      "outputs": [
        {
          "output_type": "execute_result",
          "data": {
            "text/plain": [
              "Text(0.5, 1.0, 'MP2/VENTAS')"
            ]
          },
          "metadata": {
            "tags": []
          },
          "execution_count": 9
        },
        {
          "output_type": "display_data",
          "data": {
            "image/png": "[encoded data removed]",
            "text/plain": [
              "<Figure size 720x360 with 2 Axes>"
            ]
          },
          "metadata": {
            "tags": [],
            "needs_background": "light"
          }
        }
      ]
    },
    {
      "cell_type": "code",
      "metadata": {
        "id": "0cC_7fjRW3DZ"
      },
      "source": [
        "# En este caso, debido a que la variacion es pequeña, utilizamos el max para asegurarnos que vamos a tener el stock necesario.\n",
        "# Sin embargo, podria utilizarce tambien median o median_high segun las caracteristicas de adquisicion de la materia prima.\n",
        "MP1_VENTAS = max(df['MP1/VENTAS'])\n",
        "MP2_VENTAS = max(df['MP2/VENTAS'])"
      ],
      "execution_count": null,
      "outputs": []
    },
    {
      "cell_type": "code",
      "metadata": {
        "colab": {
          "base_uri": "https://localhost:8080/"
        },
        "id": "QPvCvE25XyWj",
        "outputId": "3ac1d433-015d-4506-fbe0-9b299f8f7fe7"
      },
      "source": [
        "# Cantidad de MP1 necesaria.\n",
        "MP1_MES_10 = VENTAS_MES_10 * MP1_VENTAS\n",
        "MP1_MES_10"
      ],
      "execution_count": null,
      "outputs": [
        {
          "output_type": "execute_result",
          "data": {
            "text/plain": [
              "2272.49999999556"
            ]
          },
          "metadata": {
            "tags": []
          },
          "execution_count": 11
        }
      ]
    },
    {
      "cell_type": "code",
      "metadata": {
        "colab": {
          "base_uri": "https://localhost:8080/"
        },
        "id": "GtwHP0Imbuim",
        "outputId": "283edea2-513f-4acf-b06b-26df4c98f6f3"
      },
      "source": [
        "# Cantidad de MP2 necesaria.\n",
        "MP2_MES_10 = VENTAS_MES_10 * MP2_VENTAS\n",
        "MP2_MES_10"
      ],
      "execution_count": null,
      "outputs": [
        {
          "output_type": "execute_result",
          "data": {
            "text/plain": [
              "688.6363636350181"
            ]
          },
          "metadata": {
            "tags": []
          },
          "execution_count": 12
        }
      ]
    },
    {
      "cell_type": "code",
      "metadata": {
        "colab": {
          "base_uri": "https://localhost:8080/",
          "height": 298
        },
        "id": "xlhtBLh8rrR6",
        "outputId": "a61cf499-8c7d-47df-c1e4-0917cac45266"
      },
      "source": [
        "# Grafico de materias primas con el nuevo mes.\n",
        "plt.legend(['MP1','MP2'])\n",
        "plt.title('VENTAS, MP1 Y MP2 por mes')\n",
        "plt.bar(df.index, df['MP1'], color='orange', alpha=0.6)\n",
        "plt.bar(df.index, df['MP2'], color='green', alpha=0.6)\n",
        "plt.bar(MES_PREDICT, MP1_MES_10, color='orange', alpha=0.4)\n",
        "plt.bar(MES_PREDICT, MP2_MES_10, color='green', alpha=0.4)"
      ],
      "execution_count": null,
      "outputs": [
        {
          "output_type": "execute_result",
          "data": {
            "text/plain": [
              "<BarContainer object of 1 artists>"
            ]
          },
          "metadata": {
            "tags": []
          },
          "execution_count": 13
        },
        {
          "output_type": "display_data",
          "data": {
            "image/png": "[encoded data removed]",
            "text/plain": [
              "<Figure size 432x288 with 1 Axes>"
            ]
          },
          "metadata": {
            "tags": [],
            "needs_background": "light"
          }
        }
      ]
    },
    {
      "cell_type": "markdown",
      "metadata": {
        "id": "Wvuu1l-WjxJB"
      },
      "source": [
        "**Conclusión**\n",
        "\n",
        "Nuestro modelo nos permite predecir la cantidad de ventas que se realizaran en los meses posteriores u momentos intermedios. La complejidad del caso radica en el ajuste del modelo polinomial. \n",
        "\n",
        "Conocer con exactitud la cantidad de materia prima requerida nos permite mejorar la planificación y evitar el desabastecimiento. Además, los costos bajan al poseer menos inventario inmovilizado.\n",
        "\n",
        "¿Quieres conocer más? Conoce la bibliografía utilizada:\n",
        "\n",
        "* https://jakevdp.github.io/PythonDataScienceHandbook/index.html\n",
        "* https://www.w3schools.com/python/python_ml_polynomial_regression.asp\n"
      ]
    }
  ]
}