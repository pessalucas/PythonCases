{
  "nbformat": 4,
  "nbformat_minor": 0,
  "metadata": {
    "kernelspec": {
      "display_name": "Python 3",
      "language": "python",
      "name": "python3"
    },
    "language_info": {
      "codemirror_mode": {
        "name": "ipython",
        "version": 3
      },
      "file_extension": ".py",
      "mimetype": "text/x-python",
      "name": "python",
      "nbconvert_exporter": "python",
      "pygments_lexer": "ipython3",
      "version": "3.7.6"
    },
    "colab": {
      "name": "CASO-PRACTICO-4",
      "provenance": [],
      "collapsed_sections": []
    }
  },
  "cells": [
    {
      "cell_type": "markdown",
      "metadata": {
        "id": "OiX95677v-km"
      },
      "source": [
        "# CASO PRACTICO 4 - API connection and market analysis\n",
        "En este caso práctico realizaremos un análisis del mercado de parlantes portátiles, más precisamente de tres marcas que compiten en el: JBL, Phillips y Noga. Es de nuestro interés conocer el posicionamiento de ellas para desarrollar una política de precios competitiva. Para el desarrollo partiremos de la información brindada por la API publica de MELI (Mercado Libre - https://developers.mercadolibre.com.ar/ ). Realizaremos la ingesta, transformación y limpieza (ETL), enriqueceremos los datos (agregando metadata) y posteriormente, los visualizaremos para sacar conclusiones de negocio.\n"
      ]
    },
    {
      "cell_type": "code",
      "metadata": {
        "id": "rg2Nsmg-Yqp3"
      },
      "source": [
        "# Importo librerias necesarias\n",
        "import os\n",
        "import pandas as pd\n",
        "import sqlalchemy as sql\n",
        "import numpy as np\n",
        "import requests\n",
        "from datetime import date\n",
        "import datetime\n",
        "%matplotlib inline\n",
        "import matplotlib.pyplot as plt\n",
        "import seaborn as sns"
      ],
      "execution_count": 1,
      "outputs": []
    },
    {
      "cell_type": "code",
      "metadata": {
        "id": "BXoYhsYcYqp5"
      },
      "source": [
        "# Dispositivos a comparar\n",
        "# ETL de datos\n",
        "# Lista de productos 1 => parlante jbl portatil\n",
        "Disp_0 = 'parlante%20jbl%20portatil'\n",
        "# Lista de productos 2 => parlante noga portatil\n",
        "Disp_1 = 'parlante%20noga%20portatil'\n",
        "# Lista de productos 3 => parlante philips portatil\n",
        "Disp_2 = 'parlante%20philips%20portatil'\n",
        "\n",
        "# URLs pre-determinadas por la documentacion de MELI\n",
        "# Para las listas de productos:\n",
        "Url_pre = 'https://api.mercadolibre.com/sites/MLA/search?q='\n",
        "Url_post = '&limit=50#json'\n",
        "\n",
        "# Para las publicaciones:\n",
        "Url_generic = 'https://api.mercadolibre.com/items?ids='"
      ],
      "execution_count": 2,
      "outputs": []
    },
    {
      "cell_type": "code",
      "metadata": {
        "id": "oF9mqs1UYqp6"
      },
      "source": [
        "# Genero un array con las listas de productos\n",
        "array_lists =    np.array([ Url_pre + Disp_0 + Url_post, \n",
        "                            Url_pre + Disp_1 + Url_post,\n",
        "                            Url_pre + Disp_2 + Url_post ])"
      ],
      "execution_count": 3,
      "outputs": []
    },
    {
      "cell_type": "markdown",
      "metadata": {
        "id": "-iTuLQppzhes"
      },
      "source": [
        "Las URLs fueron definidas gracias a la documentación de MELI. De manera resumida el principio de funcionamiento es el siguiente: Con Url_pre y Url_post, y seleccionando el Disp formo la URL del primer GET. Realizo el primer request a la API. Ella me devuelve un listado de publicaciones que matchean. Posteriormente con la URL_generic puedo realizar un segundo request y acceder a cada uno de manera particular para encontrar información más detallada de las publicaciones y los productos."
      ]
    },
    {
      "cell_type": "code",
      "metadata": {
        "colab": {
          "base_uri": "https://localhost:8080/"
        },
        "id": "CIENhld6Yqp6",
        "outputId": "62245182-1eef-41fd-cad3-aa37f1e413fc"
      },
      "source": [
        "# Definimos el df\n",
        "df_products = pd.DataFrame()\n",
        "\n",
        "# Recorremos el array de listas\n",
        "for list in array_lists:\n",
        "  \n",
        "    # Ejecutamos peticion para traer lista\n",
        "    response_json = requests.get( list )\n",
        "    \n",
        "    # Verificamos primero si la peticion se realizo correctamente\n",
        "    if response_json.status_code == 200:\n",
        "        response_json = response_json.json()\n",
        "\n",
        "        print('--CARGANDO LISTA DE PRODUCTOS--')\n",
        "\n",
        "        # Recorro las listas de productos\n",
        "        for product in response_json['results']:\n",
        "\n",
        "            # Guardamos la informacion relevante de la publicacion\n",
        "            id                     = product['id']\n",
        "            title                  = product['title']\n",
        "            seller_sales           = product['seller']['seller_reputation']['transactions']['completed']\n",
        "            seller_rating_positive = product['seller']['seller_reputation']['transactions']['ratings']['positive']\n",
        "            seller_rating_negative = product['seller']['seller_reputation']['transactions']['ratings']['negative']\n",
        "            price                  = product['price']\n",
        "            sold_quantity          = product['sold_quantity']\n",
        "            available_quantity     = product['available_quantity']\n",
        "            district               = product['address']['city_name']\n",
        "\n",
        "            # Ejecutamos la request para la publicacion, en ella conseguiremos informacion detallada de ellos\n",
        "            Url_prod = Url_generic + id\n",
        "            response_json_product = requests.get( Url_prod )\n",
        "\n",
        "            # Verificamos primero si la peticion se realizo correctamente\n",
        "            if response_json_product.status_code == 200:\n",
        "                response_json_product = response_json_product.json()\n",
        "\n",
        "                # Limpiamos los valores anteriores para evitar que de duplique erroneamente la informacion\n",
        "                battery_duration = None\n",
        "                brand            = None\n",
        "                color            = None\n",
        "                weight           = None\n",
        "                power            = None\n",
        "                portable         = None\n",
        "                distortion       = None\n",
        "                waterproof       = None\n",
        "\n",
        "                # Revisamos los atributos y asignamos los matcheados\n",
        "                for attribute in response_json_product[0]['body']['attributes']:\n",
        "                    if attribute['id'] == 'BATTERY_AUTONOMY':\n",
        "                        battery_duration = attribute['value_name']\n",
        "                    if attribute['id'] == 'BRAND':\n",
        "                        brand = attribute['value_name']\n",
        "                    if attribute['id'] == 'COLOR':\n",
        "                        color = attribute['value_name']\n",
        "                    if attribute['id'] == 'WEIGHT':\n",
        "                        weight = attribute['value_name']\n",
        "                    if attribute['id'] == 'POWER_OUTPUT_RMS':\n",
        "                        power = attribute['value_name']\n",
        "                    if attribute['id'] == 'IS_PORTABLE':\n",
        "                        portable = attribute['value_name']\n",
        "                    if attribute['id'] == 'DISTORTION':\n",
        "                        distortion = attribute['value_name']\n",
        "                    if attribute['id'] == 'IS_WATERPROOF':\n",
        "                        waterproof = attribute['value_name']\n",
        "                    if attribute['id'] == 'ITEM_CONDITION':\n",
        "                        item_cond = attribute['value_name']\n",
        "                    if attribute['id'] == 'MODEL':\n",
        "                        model = attribute['value_name']\n",
        "\n",
        "                # Solo tomamos la parte del date (XXXX-XX-XX)\n",
        "                registration_date      = response_json_product[0]['body']['date_created'][0:10]\n",
        "\n",
        "                # Guardamos en el df la informacion de la publicacion\n",
        "                df_products = df_products.append({'title'                  : title ,\n",
        "                                                  'seller_sales'           : seller_sales ,\n",
        "                                                  'seller_rating_positive' : seller_rating_positive ,\n",
        "                                                  'seller_rating_negative' : seller_rating_negative ,\n",
        "                                                  'price'                  : price ,\n",
        "                                                  'sold_quantity'          : sold_quantity ,\n",
        "                                                  'available_quantity'     : available_quantity ,\n",
        "                                                  'battery_duration'       : battery_duration ,\n",
        "                                                  'district'               : district ,\n",
        "                                                  'battery_duration'       : battery_duration ,\n",
        "                                                  'brand'                  : brand ,\n",
        "                                                  'color'                  : color ,\n",
        "                                                  'weight'                 : weight ,\n",
        "                                                  'power'                  : power ,\n",
        "                                                  'portable'               : portable ,\n",
        "                                                  'item_cond'              : item_cond ,\n",
        "                                                  'distortion'             : distortion ,\n",
        "                                                  'model'                  : model ,\n",
        "                                                  'registration_date'      : registration_date ,\n",
        "                                                  'waterproof'             : waterproof } , ignore_index=True)\n",
        "            else:\n",
        "                print('Error de peticion.')\n",
        "                print( response_json_product.status_code )\n",
        "    else:\n",
        "        print('Error de peticion.')\n",
        "        print( response_json_product.status_code )\n",
        "                    \n",
        "                    "
      ],
      "execution_count": 4,
      "outputs": [
        {
          "output_type": "stream",
          "text": [
            "--CARGANDO LISTA DE PRODUCTOS--\n",
            "--CARGANDO LISTA DE PRODUCTOS--\n",
            "--CARGANDO LISTA DE PRODUCTOS--\n"
          ],
          "name": "stdout"
        }
      ]
    },
    {
      "cell_type": "code",
      "metadata": {
        "colab": {
          "base_uri": "https://localhost:8080/",
          "height": 683
        },
        "id": "x1v6UbmsYqp9",
        "outputId": "4ce07dbc-e108-4834-fe30-a42b799d6c4c"
      },
      "source": [
        "# Revisamos que la carga sea correcta\n",
        "df_products.head(5)"
      ],
      "execution_count": 5,
      "outputs": [
        {
          "output_type": "execute_result",
          "data": {
            "text/html": [
              "<div>\n",
              "<style scoped>\n",
              "    .dataframe tbody tr th:only-of-type {\n",
              "        vertical-align: middle;\n",
              "    }\n",
              "\n",
              "    .dataframe tbody tr th {\n",
              "        vertical-align: top;\n",
              "    }\n",
              "\n",
              "    .dataframe thead th {\n",
              "        text-align: right;\n",
              "    }\n",
              "</style>\n",
              "<table border=\"1\" class=\"dataframe\">\n",
              "  <thead>\n",
              "    <tr style=\"text-align: right;\">\n",
              "      <th></th>\n",
              "      <th>available_quantity</th>\n",
              "      <th>battery_duration</th>\n",
              "      <th>brand</th>\n",
              "      <th>color</th>\n",
              "      <th>distortion</th>\n",
              "      <th>district</th>\n",
              "      <th>item_cond</th>\n",
              "      <th>model</th>\n",
              "      <th>portable</th>\n",
              "      <th>power</th>\n",
              "      <th>price</th>\n",
              "      <th>registration_date</th>\n",
              "      <th>seller_rating_negative</th>\n",
              "      <th>seller_rating_positive</th>\n",
              "      <th>seller_sales</th>\n",
              "      <th>sold_quantity</th>\n",
              "      <th>title</th>\n",
              "      <th>waterproof</th>\n",
              "      <th>weight</th>\n",
              "    </tr>\n",
              "  </thead>\n",
              "  <tbody>\n",
              "    <tr>\n",
              "      <th>0</th>\n",
              "      <td>58.0</td>\n",
              "      <td>5 h</td>\n",
              "      <td>JBL</td>\n",
              "      <td>Midnight black</td>\n",
              "      <td>None</td>\n",
              "      <td>Capital Federal</td>\n",
              "      <td>Nuevo</td>\n",
              "      <td>Go 2</td>\n",
              "      <td>Sí</td>\n",
              "      <td>3.1 W</td>\n",
              "      <td>4200.00</td>\n",
              "      <td>2019-11-14</td>\n",
              "      <td>0.02</td>\n",
              "      <td>0.96</td>\n",
              "      <td>44074.0</td>\n",
              "      <td>2113.0</td>\n",
              "      <td>Parlante Jbl Go 2 Portátil Con Bluetooth Midni...</td>\n",
              "      <td>Sí</td>\n",
              "      <td>184 g</td>\n",
              "    </tr>\n",
              "    <tr>\n",
              "      <th>1</th>\n",
              "      <td>11.0</td>\n",
              "      <td>20 h</td>\n",
              "      <td>JBL</td>\n",
              "      <td>Squad</td>\n",
              "      <td>1 %</td>\n",
              "      <td>Capital Federal</td>\n",
              "      <td>Nuevo</td>\n",
              "      <td>Charge 4</td>\n",
              "      <td>Sí</td>\n",
              "      <td>30 W</td>\n",
              "      <td>21199.00</td>\n",
              "      <td>2020-11-16</td>\n",
              "      <td>0.02</td>\n",
              "      <td>0.96</td>\n",
              "      <td>44074.0</td>\n",
              "      <td>25.0</td>\n",
              "      <td>Parlante Jbl Charge 4 Portátil Con Bluetooth S...</td>\n",
              "      <td>Sí</td>\n",
              "      <td>965 g</td>\n",
              "    </tr>\n",
              "    <tr>\n",
              "      <th>2</th>\n",
              "      <td>730.0</td>\n",
              "      <td>12 h</td>\n",
              "      <td>JBL</td>\n",
              "      <td>Black matte</td>\n",
              "      <td>None</td>\n",
              "      <td>Palermo Soho</td>\n",
              "      <td>Nuevo</td>\n",
              "      <td>Flip 5</td>\n",
              "      <td>Sí</td>\n",
              "      <td>20 W</td>\n",
              "      <td>12673.00</td>\n",
              "      <td>2021-07-23</td>\n",
              "      <td>0.02</td>\n",
              "      <td>0.97</td>\n",
              "      <td>36072.0</td>\n",
              "      <td>166.0</td>\n",
              "      <td>Parlante Jbl Flip 5 Portátil Con Bluetooth Bla...</td>\n",
              "      <td>Sí</td>\n",
              "      <td>540 g</td>\n",
              "    </tr>\n",
              "    <tr>\n",
              "      <th>3</th>\n",
              "      <td>188.0</td>\n",
              "      <td>5 h</td>\n",
              "      <td>JBL</td>\n",
              "      <td>Red</td>\n",
              "      <td>None</td>\n",
              "      <td>Florida Oeste</td>\n",
              "      <td>Nuevo</td>\n",
              "      <td>Go 3</td>\n",
              "      <td>Sí</td>\n",
              "      <td>4.2 W</td>\n",
              "      <td>6047.79</td>\n",
              "      <td>2021-07-15</td>\n",
              "      <td>0.01</td>\n",
              "      <td>0.98</td>\n",
              "      <td>8980.0</td>\n",
              "      <td>7.0</td>\n",
              "      <td>Parlante Jbl Go 3 Portátil Con Bluetooth Red</td>\n",
              "      <td>Sí</td>\n",
              "      <td>0.209 kg</td>\n",
              "    </tr>\n",
              "    <tr>\n",
              "      <th>4</th>\n",
              "      <td>9.0</td>\n",
              "      <td>5 h</td>\n",
              "      <td>JBL</td>\n",
              "      <td>Apple red</td>\n",
              "      <td>None</td>\n",
              "      <td>Ramos Mejia</td>\n",
              "      <td>Nuevo</td>\n",
              "      <td>JR Pop</td>\n",
              "      <td>Sí</td>\n",
              "      <td>3 W</td>\n",
              "      <td>4437.00</td>\n",
              "      <td>2021-07-15</td>\n",
              "      <td>0.00</td>\n",
              "      <td>0.99</td>\n",
              "      <td>9542.0</td>\n",
              "      <td>1.0</td>\n",
              "      <td>Parlante Jbl Jr Pop Portátil Con Bluetooth App...</td>\n",
              "      <td>Sí</td>\n",
              "      <td>121.2 g</td>\n",
              "    </tr>\n",
              "  </tbody>\n",
              "</table>\n",
              "</div>"
            ],
            "text/plain": [
              "   available_quantity battery_duration  ... waterproof    weight\n",
              "0                58.0              5 h  ...         Sí     184 g\n",
              "1                11.0             20 h  ...         Sí     965 g\n",
              "2               730.0             12 h  ...         Sí     540 g\n",
              "3               188.0              5 h  ...         Sí  0.209 kg\n",
              "4                 9.0              5 h  ...         Sí   121.2 g\n",
              "\n",
              "[5 rows x 19 columns]"
            ]
          },
          "metadata": {
            "tags": []
          },
          "execution_count": 5
        }
      ]
    },
    {
      "cell_type": "markdown",
      "metadata": {
        "id": "Ocp1rXkp07D7"
      },
      "source": [
        "Una vez realizada la ingesta debemos analizar la información para transformarla, limpiarla y formatearla. En este caso, por ejemplo, tenemos “weight” en gramos y kilogramos. Este es un paso clave previo a la visualización. "
      ]
    },
    {
      "cell_type": "code",
      "metadata": {
        "id": "Z_HCsj7KYqp_"
      },
      "source": [
        "# Formatemos power como un float\n",
        "array_power                     = df_products['power'].str.split(expand=True)\n",
        "df_products['power']            = array_power[0].astype(float)\n",
        "\n",
        "# Formatemos battery_duration como un float\n",
        "array_battery                   = df_products['battery_duration'].str.split(expand=True)\n",
        "df_products['battery_duration'] = array_battery[0].astype(float)\n",
        "\n",
        "# Aplicamos en weight la correccion para los valores en kg normalizando a g y lo formateamos como un float.\n",
        "array_weight                    = df_products['weight'].str.split(expand=True)\n",
        "array_weight[0]                 = array_weight[0].astype(float)\n",
        "df_products['weight']           = array_weight.apply( lambda array_weight: array_weight[0]*1000 if array_weight[1]=='kg' else array_weight[0], axis=1 )\n",
        "\n",
        "# Igualamos los valores de noganet y noga a noga. Son de la misma empresa de tecnologia.\n",
        "df_products['brand']            = df_products['brand'].str.replace('Noganet','Noga')\n"
      ],
      "execution_count": 6,
      "outputs": []
    },
    {
      "cell_type": "code",
      "metadata": {
        "colab": {
          "base_uri": "https://localhost:8080/",
          "height": 683
        },
        "id": "z63AM9e_Yqp_",
        "outputId": "56f99cf8-ae89-41ea-9a1f-584e35ea1962"
      },
      "source": [
        "# Reviso que la transformacion sea suficiente\n",
        "df_products.head(5)"
      ],
      "execution_count": 7,
      "outputs": [
        {
          "output_type": "execute_result",
          "data": {
            "text/html": [
              "<div>\n",
              "<style scoped>\n",
              "    .dataframe tbody tr th:only-of-type {\n",
              "        vertical-align: middle;\n",
              "    }\n",
              "\n",
              "    .dataframe tbody tr th {\n",
              "        vertical-align: top;\n",
              "    }\n",
              "\n",
              "    .dataframe thead th {\n",
              "        text-align: right;\n",
              "    }\n",
              "</style>\n",
              "<table border=\"1\" class=\"dataframe\">\n",
              "  <thead>\n",
              "    <tr style=\"text-align: right;\">\n",
              "      <th></th>\n",
              "      <th>available_quantity</th>\n",
              "      <th>battery_duration</th>\n",
              "      <th>brand</th>\n",
              "      <th>color</th>\n",
              "      <th>distortion</th>\n",
              "      <th>district</th>\n",
              "      <th>item_cond</th>\n",
              "      <th>model</th>\n",
              "      <th>portable</th>\n",
              "      <th>power</th>\n",
              "      <th>price</th>\n",
              "      <th>registration_date</th>\n",
              "      <th>seller_rating_negative</th>\n",
              "      <th>seller_rating_positive</th>\n",
              "      <th>seller_sales</th>\n",
              "      <th>sold_quantity</th>\n",
              "      <th>title</th>\n",
              "      <th>waterproof</th>\n",
              "      <th>weight</th>\n",
              "    </tr>\n",
              "  </thead>\n",
              "  <tbody>\n",
              "    <tr>\n",
              "      <th>0</th>\n",
              "      <td>58.0</td>\n",
              "      <td>5.0</td>\n",
              "      <td>JBL</td>\n",
              "      <td>Midnight black</td>\n",
              "      <td>None</td>\n",
              "      <td>Capital Federal</td>\n",
              "      <td>Nuevo</td>\n",
              "      <td>Go 2</td>\n",
              "      <td>Sí</td>\n",
              "      <td>3.1</td>\n",
              "      <td>4200.00</td>\n",
              "      <td>2019-11-14</td>\n",
              "      <td>0.02</td>\n",
              "      <td>0.96</td>\n",
              "      <td>44074.0</td>\n",
              "      <td>2113.0</td>\n",
              "      <td>Parlante Jbl Go 2 Portátil Con Bluetooth Midni...</td>\n",
              "      <td>Sí</td>\n",
              "      <td>184.0</td>\n",
              "    </tr>\n",
              "    <tr>\n",
              "      <th>1</th>\n",
              "      <td>11.0</td>\n",
              "      <td>20.0</td>\n",
              "      <td>JBL</td>\n",
              "      <td>Squad</td>\n",
              "      <td>1 %</td>\n",
              "      <td>Capital Federal</td>\n",
              "      <td>Nuevo</td>\n",
              "      <td>Charge 4</td>\n",
              "      <td>Sí</td>\n",
              "      <td>30.0</td>\n",
              "      <td>21199.00</td>\n",
              "      <td>2020-11-16</td>\n",
              "      <td>0.02</td>\n",
              "      <td>0.96</td>\n",
              "      <td>44074.0</td>\n",
              "      <td>25.0</td>\n",
              "      <td>Parlante Jbl Charge 4 Portátil Con Bluetooth S...</td>\n",
              "      <td>Sí</td>\n",
              "      <td>965.0</td>\n",
              "    </tr>\n",
              "    <tr>\n",
              "      <th>2</th>\n",
              "      <td>730.0</td>\n",
              "      <td>12.0</td>\n",
              "      <td>JBL</td>\n",
              "      <td>Black matte</td>\n",
              "      <td>None</td>\n",
              "      <td>Palermo Soho</td>\n",
              "      <td>Nuevo</td>\n",
              "      <td>Flip 5</td>\n",
              "      <td>Sí</td>\n",
              "      <td>20.0</td>\n",
              "      <td>12673.00</td>\n",
              "      <td>2021-07-23</td>\n",
              "      <td>0.02</td>\n",
              "      <td>0.97</td>\n",
              "      <td>36072.0</td>\n",
              "      <td>166.0</td>\n",
              "      <td>Parlante Jbl Flip 5 Portátil Con Bluetooth Bla...</td>\n",
              "      <td>Sí</td>\n",
              "      <td>540.0</td>\n",
              "    </tr>\n",
              "    <tr>\n",
              "      <th>3</th>\n",
              "      <td>188.0</td>\n",
              "      <td>5.0</td>\n",
              "      <td>JBL</td>\n",
              "      <td>Red</td>\n",
              "      <td>None</td>\n",
              "      <td>Florida Oeste</td>\n",
              "      <td>Nuevo</td>\n",
              "      <td>Go 3</td>\n",
              "      <td>Sí</td>\n",
              "      <td>4.2</td>\n",
              "      <td>6047.79</td>\n",
              "      <td>2021-07-15</td>\n",
              "      <td>0.01</td>\n",
              "      <td>0.98</td>\n",
              "      <td>8980.0</td>\n",
              "      <td>7.0</td>\n",
              "      <td>Parlante Jbl Go 3 Portátil Con Bluetooth Red</td>\n",
              "      <td>Sí</td>\n",
              "      <td>209.0</td>\n",
              "    </tr>\n",
              "    <tr>\n",
              "      <th>4</th>\n",
              "      <td>9.0</td>\n",
              "      <td>5.0</td>\n",
              "      <td>JBL</td>\n",
              "      <td>Apple red</td>\n",
              "      <td>None</td>\n",
              "      <td>Ramos Mejia</td>\n",
              "      <td>Nuevo</td>\n",
              "      <td>JR Pop</td>\n",
              "      <td>Sí</td>\n",
              "      <td>3.0</td>\n",
              "      <td>4437.00</td>\n",
              "      <td>2021-07-15</td>\n",
              "      <td>0.00</td>\n",
              "      <td>0.99</td>\n",
              "      <td>9542.0</td>\n",
              "      <td>1.0</td>\n",
              "      <td>Parlante Jbl Jr Pop Portátil Con Bluetooth App...</td>\n",
              "      <td>Sí</td>\n",
              "      <td>121.2</td>\n",
              "    </tr>\n",
              "  </tbody>\n",
              "</table>\n",
              "</div>"
            ],
            "text/plain": [
              "   available_quantity  battery_duration  ... waterproof weight\n",
              "0                58.0               5.0  ...         Sí  184.0\n",
              "1                11.0              20.0  ...         Sí  965.0\n",
              "2               730.0              12.0  ...         Sí  540.0\n",
              "3               188.0               5.0  ...         Sí  209.0\n",
              "4                 9.0               5.0  ...         Sí  121.2\n",
              "\n",
              "[5 rows x 19 columns]"
            ]
          },
          "metadata": {
            "tags": []
          },
          "execution_count": 7
        }
      ]
    },
    {
      "cell_type": "markdown",
      "metadata": {
        "id": "kZPKxK9T2p7K"
      },
      "source": [
        "Este proceso fue simplificado, pero para llevarlo adelante de manera es necesario realizar un análisis exploratorio previo y posterior a la transformación validando que la llegada de los datos nuevos y su transformación este contemplada en nuestras reglas. \n",
        "También podemos enriquecer con metadatos nuestra tabla de datos.\n"
      ]
    },
    {
      "cell_type": "code",
      "metadata": {
        "id": "7yA-dV8kYwHr"
      },
      "source": [
        "# Agregamos columna con la fecha de hoy\n",
        "df_products['date_today']             = date.today().strftime(\"%Y-%m-%d\")\n",
        "\n",
        "# Formateamos las columnas date\n",
        "df_products['registration_date']      = pd.to_datetime(df_products['registration_date'])\n",
        "df_products['date_today']             = pd.to_datetime(df_products['date_today'])\n",
        "\n",
        "# Conociendo hace cuantos dias esta activa la publicacion y la cantidad de productos vendidos en ella puedo sacar la cantidad de productos vendidos al dia\n",
        "# en cada una de ellas\n",
        "df_products['diff_days']               = df_products['date_today'] - df_products['registration_date'] \n",
        "df_products['sold_quantity/diff_days'] = df_products['sold_quantity'] / df_products['diff_days'].dt.days"
      ],
      "execution_count": 8,
      "outputs": []
    },
    {
      "cell_type": "markdown",
      "metadata": {
        "id": "qcztLq3r3oKy"
      },
      "source": [
        "Para la visualización resulta importante definir previamente que quiero chequear. Jugar con los datos y hacerse preguntas es un buen comienzo. \n",
        "\n",
        "¿En qué rango de precios se encuentran los productos? ¿Cual posee mejores features?"
      ]
    },
    {
      "cell_type": "code",
      "metadata": {
        "colab": {
          "base_uri": "https://localhost:8080/",
          "height": 279
        },
        "id": "cq7fh7ZyeSWU",
        "outputId": "1b175784-1be8-4e01-89a4-e81bcb54d6c7"
      },
      "source": [
        " # Comienzo analizando el segmento de precios en los que se encuentran las marcas\n",
        " ax = sns.boxplot(x=\"price\", y=\"brand\", data=df_products)"
      ],
      "execution_count": 9,
      "outputs": [
        {
          "output_type": "display_data",
          "data": {
            "image/png": "[encoded data removed]",
            "text/plain": [
              "<Figure size 432x288 with 1 Axes>"
            ]
          },
          "metadata": {
            "tags": [],
            "needs_background": "light"
          }
        }
      ]
    },
    {
      "cell_type": "code",
      "metadata": {
        "colab": {
          "base_uri": "https://localhost:8080/",
          "height": 333
        },
        "id": "uIqnHpllf6Pc",
        "outputId": "cc447768-d74e-4a86-82cb-9027493732a1"
      },
      "source": [
        "# En primer lugar podemos ver como JBL posee una gama de precios mucho mas amplia, llegando a alcanzar los 120k en algunos productos.\n",
        "# Para visualizar de manera mas precisa vamos a centrarnos en los parlates de costo menor a 30000, quitando outliers\n",
        "df_products_prices = df_products.loc[(df_products['price'] < 30000)]\n",
        "\n",
        "# Realizamos el boxplot\n",
        "ax = sns.boxplot(x=\"price\", y=\"brand\", data=df_products_prices)\n",
        "ax = sns.swarmplot(x=\"price\", y=\"brand\", data=df_products_prices, color=\".25\")"
      ],
      "execution_count": 10,
      "outputs": [
        {
          "output_type": "stream",
          "text": [
            "/usr/local/lib/python3.7/dist-packages/seaborn/categorical.py:1296: UserWarning: 10.2% of the points cannot be placed; you may want to decrease the size of the markers or use stripplot.\n",
            "  warnings.warn(msg, UserWarning)\n"
          ],
          "name": "stderr"
        },
        {
          "output_type": "display_data",
          "data": {
            "image/png": "[encoded data removed]",
            "text/plain": [
              "<Figure size 432x288 with 1 Axes>"
            ]
          },
          "metadata": {
            "tags": [],
            "needs_background": "light"
          }
        }
      ]
    },
    {
      "cell_type": "markdown",
      "metadata": {
        "id": "GBNYBkTy4HUv"
      },
      "source": [
        "Aquí podemos ver como Noga se posiciona como un producto low cost frente a sus competidores. Phillips y JBL luchan en el segmento medio y superior. Phillips parece querer disputarle el mercado a JBL, poniendo sus precios levemente por debajo."
      ]
    },
    {
      "cell_type": "code",
      "metadata": {
        "colab": {
          "base_uri": "https://localhost:8080/",
          "height": 388
        },
        "id": "LxlfafeDlqfI",
        "outputId": "f5748d91-2d50-4e26-b091-3c8eb9c8ae3c"
      },
      "source": [
        "# Comparamos de caracterisicas medibles de manera numerica\n",
        "fig, axes = plt.subplots(1, 3, figsize=(15, 5), sharey=True)\n",
        "fig.suptitle('Measurable characteristics')\n",
        "\n",
        "# Power\n",
        "# Quitamos los outliers\n",
        "df_products_power = df_products.loc[(df_products['power'] < 100)]\n",
        "sns.boxplot(ax=axes[0], x=\"power\", y=\"brand\", data=df_products_power)\n",
        "axes[0].set_title(\"Power (w)\")\n",
        "\n",
        "# Battery\n",
        "sns.boxplot(ax=axes[1], x=\"battery_duration\", y=\"brand\", data=df_products)\n",
        "axes[1].set_title(\"Battery (h)\")\n",
        "\n",
        "# Weight\n",
        "# Quitamos los outliers\n",
        "df_products_weight = df_products.loc[(df_products['weight'] < 2000)]\n",
        "sns.boxplot(ax=axes[2], x=\"weight\", y=\"brand\", data=df_products_weight)\n",
        "axes[2].set_title(\"Weight (g)\")"
      ],
      "execution_count": 11,
      "outputs": [
        {
          "output_type": "execute_result",
          "data": {
            "text/plain": [
              "Text(0.5, 1.0, 'Weight (g)')"
            ]
          },
          "metadata": {
            "tags": []
          },
          "execution_count": 11
        },
        {
          "output_type": "display_data",
          "data": {
            "image/png": "[encoded data removed]",
            "text/plain": [
              "<Figure size 1080x360 with 3 Axes>"
            ]
          },
          "metadata": {
            "tags": [],
            "needs_background": "light"
          }
        }
      ]
    },
    {
      "cell_type": "code",
      "metadata": {
        "colab": {
          "base_uri": "https://localhost:8080/",
          "height": 352
        },
        "id": "Ul9sbb03NPgy",
        "outputId": "2946f4ea-3670-4135-9128-d943b0089003"
      },
      "source": [
        "# Resistencia al agua\n",
        "# Separamos en df por marca\n",
        "df_products_JBL     = df_products.loc[(df_products['brand'] == 'JBL')]\n",
        "df_products_Noga    = df_products.loc[(df_products['brand'] == 'Noga')]\n",
        "df_products_Philips = df_products.loc[(df_products['brand'] == 'Philips')]\n",
        "\n",
        "# Calculamos el promedio de los productos resistencies al agua por marca\n",
        "df_products_JBL_waterproof     = df_products_JBL['waterproof'].dropna()\n",
        "prom_waterproof_JBL            = ( df_products_JBL[df_products_JBL['waterproof']         == 'Sí'].shape[0] / df_products_JBL_waterproof.shape[0] ) * 100\n",
        "\n",
        "df_products_Noga_waterproof    = df_products_Noga['waterproof'].dropna()\n",
        "prom_waterproof_Noga           = ( df_products_Noga[df_products_Noga['waterproof']       == 'Sí'].shape[0] / df_products_Noga_waterproof.shape[0] ) * 100\n",
        "\n",
        "df_products_Philips_waterproof = df_products_Philips['waterproof'].dropna()\n",
        "prom_waterproof_Philips        = ( df_products_Philips[df_products_Philips['waterproof'] == 'Sí'].shape[0] / df_products_Philips_waterproof.shape[0] ) * 100\n",
        "\n",
        "# Realizamos un grafico de barras\n",
        "fig = plt.figure()\n",
        "ax = fig.add_axes([0,0,1,1])\n",
        "brands = ['JBL','Noga','Philips']\n",
        "colors = ['yellowgreen', 'lightcoral', 'lightskyblue']\n",
        "prom_waterproof = [prom_waterproof_JBL , prom_waterproof_Noga , prom_waterproof_Philips]\n",
        "ax.bar(brands,prom_waterproof, color=colors)\n",
        "plt.title('Waterproof')\n",
        "plt.ylabel('%')\n",
        "plt.show()"
      ],
      "execution_count": 12,
      "outputs": [
        {
          "output_type": "display_data",
          "data": {
            "image/png": "[encoded data removed]",
            "text/plain": [
              "<Figure size 432x288 with 1 Axes>"
            ]
          },
          "metadata": {
            "tags": [],
            "needs_background": "light"
          }
        }
      ]
    },
    {
      "cell_type": "markdown",
      "metadata": {
        "id": "m_DV_Vja48gg"
      },
      "source": [
        "Al compararlos comenzamos a validar nuestra primera premisa. Noga se posiciona como un producto económico, de menores prestaciones. JBL parecería ser la marca líder logrando la mejor relacion power- battery-weight y con prácticamente un 90% de sus productos resistentes al agua. Por su parte Phillips logra en algunos puntos acercarse a JBL pero se posiciona más bien como un producto intermedio, de menor categoría y costo que el líder."
      ]
    },
    {
      "cell_type": "code",
      "metadata": {
        "colab": {
          "base_uri": "https://localhost:8080/",
          "height": 264
        },
        "id": "qLvJVWKEz4Rw",
        "outputId": "09986c85-512a-4326-baf6-b19058c3d711"
      },
      "source": [
        "# Calculamos la cantidad de productos vendidos promedio por marca\n",
        "prom_solddays_JBL     = df_products_JBL['sold_quantity/diff_days'].sum()\n",
        "prom_solddays_Noga    = df_products_Noga['sold_quantity/diff_days'].sum()\n",
        "prom_solddays_Philips = df_products_Philips['sold_quantity/diff_days'].sum()\n",
        "\n",
        "# Realizamos el grafico de torta\n",
        "labels = ['JBL','Noga','Philips']\n",
        "prom_solddays = [prom_solddays_JBL, prom_solddays_Noga, prom_solddays_Philips]\n",
        "colors = ['yellowgreen', 'lightcoral', 'lightskyblue']\n",
        "plt.pie( prom_solddays, labels=labels, colors=colors, autopct='%1.1f%%', startangle=140 )\n",
        "plt.title('Market share')\n",
        "plt.show()"
      ],
      "execution_count": 13,
      "outputs": [
        {
          "output_type": "display_data",
          "data": {
            "image/png": "[encoded data removed]",
            "text/plain": [
              "<Figure size 432x288 with 1 Axes>"
            ]
          },
          "metadata": {
            "tags": []
          }
        }
      ]
    },
    {
      "cell_type": "markdown",
      "metadata": {
        "id": "Z5IG1moK6RV8"
      },
      "source": [
        "De la muestra tomada, podemos concluir que la mayoría de los portátiles vendidos son de JBL. Noga, luce fuerte en su segmento y acumula (aproximadamente) el 20% de las ventas de portátiles. Por su parte la estrategia de Phillips parecería no estar dando tan buenos resultados frente a JBL."
      ]
    },
    {
      "cell_type": "markdown",
      "metadata": {
        "id": "HnDDUeGG7Obi"
      },
      "source": [
        "**Conclusión**\n",
        "\n",
        "En este caso comprendimos un poco más sobre cómo desarrollar un proceso ETL y su importancia. Llevar adelante de manera minuciosa esta actividad nos facilitara enormemente la visualización posterior. También, nos garantizara cierta certidumbre de que lo observado es correcto.\n",
        "\n",
        "Por su parte, el enriquecimiento de datos nos permitió inferir la cantidad de productos vendidos por marca. \n",
        "\n",
        "Las visualizaciones nos permitieron comprender los datos de una manera más intuitiva y amigable.\n",
        "\n"
      ]
    }
  ]
}